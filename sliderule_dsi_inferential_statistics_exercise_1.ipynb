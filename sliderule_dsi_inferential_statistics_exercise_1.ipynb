{
 "cells": [
  {
   "cell_type": "markdown",
   "metadata": {},
   "source": [
    "# What is the True Normal Human Body Temperature? \n",
    "\n",
    "#### Background\n",
    "\n",
    "The mean normal body temperature was held to be 37$^{\\circ}$C or 98.6$^{\\circ}$F for more than 120 years since it was first conceptualized and reported by Carl Wunderlich in a famous 1868 book. But, is this value statistically correct?"
   ]
  },
  {
   "cell_type": "markdown",
   "metadata": {},
   "source": [
    "<h3>Exercises</h3>\n",
    "\n",
    "<p>In this exercise, you will analyze a dataset of human body temperatures and employ the concepts of hypothesis testing, confidence intervals, and statistical significance.</p>\n",
    "\n",
    "<p>Answer the following questions <b>in this notebook below and submit to your Github account</b>.</p> \n",
    "\n",
    "<ol>\n",
    "<li>  Is the distribution of body temperatures normal? \n",
    "    <ul>\n",
    "    <li> Although this is not a requirement for the Central Limit Theorem to hold (read the introduction on Wikipedia's page about the CLT carefully: https://en.wikipedia.org/wiki/Central_limit_theorem), it gives us some peace of mind that the population may also be normally distributed if we assume that this sample is representative of the population.\n",
    "    <li> Think about the way you're going to check for the normality of the distribution. Graphical methods are usually used first, but there are also other ways: https://en.wikipedia.org/wiki/Normality_test\n",
    "    </ul>\n",
    "<li>  Is the sample size large? Are the observations independent?\n",
    "    <ul>\n",
    "    <li> Remember that this is a condition for the Central Limit Theorem, and hence the statistical tests we are using, to apply.\n",
    "    </ul>\n",
    "<li>  Is the true population mean really 98.6 degrees F?\n",
    "    <ul>\n",
    "    <li> First, try a bootstrap hypothesis test.\n",
    "    <li> Now, let's try frequentist statistical testing. Would you use a one-sample or two-sample test? Why?\n",
    "    <li> In this situation, is it appropriate to use the $t$ or $z$ statistic? \n",
    "    <li> Now try using the other test. How is the result be different? Why?\n",
    "    </ul>\n",
    "<li>  Draw a small sample of size 10 from the data and repeat both frequentist tests. \n",
    "    <ul>\n",
    "    <li> Which one is the correct one to use? \n",
    "    <li> What do you notice? What does this tell you about the difference in application of the $t$ and $z$ statistic?\n",
    "    </ul>\n",
    "<li>  At what temperature should we consider someone's temperature to be \"abnormal\"?\n",
    "    <ul>\n",
    "    <li> As in the previous example, try calculating everything using the boostrap approach, as well as the frequentist approach.\n",
    "    <li> Start by computing the margin of error and confidence interval. When calculating the confidence interval, keep in mind that you should use the appropriate formula for one draw, and not N draws.\n",
    "    </ul>\n",
    "<li>  Is there a significant difference between males and females in normal temperature?\n",
    "    <ul>\n",
    "    <li> What testing approach did you use and why?\n",
    "    <li> Write a story with your conclusion in the context of the original problem.\n",
    "    </ul>\n",
    "</ol>\n",
    "\n",
    "You can include written notes in notebook cells using Markdown: \n",
    "   - In the control panel at the top, choose Cell > Cell Type > Markdown\n",
    "   - Markdown syntax: http://nestacms.com/docs/creating-content/markdown-cheat-sheet\n",
    "\n",
    "#### Resources\n",
    "\n",
    "+ Information and data sources: http://www.amstat.org/publications/jse/datasets/normtemp.txt, http://www.amstat.org/publications/jse/jse_data_archive.htm\n",
    "+ Markdown syntax: http://nestacms.com/docs/creating-content/markdown-cheat-sheet\n",
    "\n",
    "****"
   ]
  },
  {
   "cell_type": "code",
   "execution_count": 2,
   "metadata": {},
   "outputs": [],
   "source": [
    "import pandas as pd\n",
    "\n",
    "df = pd.read_csv('data/human_body_temperature.csv')"
   ]
  },
  {
   "cell_type": "code",
   "execution_count": 50,
   "metadata": {},
   "outputs": [],
   "source": [
    "import numpy as np\n",
    "from scipy.stats import norm\n",
    "from scipy.stats import ttest_1samp\n",
    "import matplotlib.pyplot as plt\n",
    "import seaborn as sns\n",
    "sns.set()"
   ]
  },
  {
   "cell_type": "markdown",
   "metadata": {},
   "source": [
    "**1. Is the distribution of body temperatures normal?** \n",
    "\n",
    "To answer this question, first I compared the cumulative distribution frequency of the data with the theoritical normal distribution curve: it's shown that the measured temperature data matches the theoritical normal distribution closely, that the distribution of body temperature is normal."
   ]
  },
  {
   "cell_type": "code",
   "execution_count": 174,
   "metadata": {},
   "outputs": [
    {
     "data": {
      "image/png": "[encoded data removed]",
      "text/plain": [
       "<Figure size 432x288 with 1 Axes>"
      ]
     },
     "metadata": {},
     "output_type": "display_data"
    }
   ],
   "source": [
    "# assign temp to be the body temperature, n is the data size\n",
    "temp = df['temperature']\n",
    "n = len(temp)\n",
    "# calculate the temperature mean and standard deviation\n",
    "temp_mean = np.mean(df['temperature'])\n",
    "temp_std = np.std(df['temperature'])\n",
    "# get the theoritical normal distribution data applying the mean and std calculated above\n",
    "temp_normal = np.sort(np.random.normal(temp_mean, temp_std, size=10000))\n",
    "# y axis of CDF of theoritical normal distribution \n",
    "y_normal = np.arange(1, len(temp_normal) + 1) / len(temp_normal)\n",
    "# x and y axises of CDF of body temperature\n",
    "x = np.sort(temp)\n",
    "y = np.arange(1, n + 1) / n\n",
    "# plot the comparison curve\n",
    "_ = plt.plot(x, y, marker='.', linestyle='none')\n",
    "_ = plt.plot(temp_normal, y_normal)\n",
    "_ = plt.xlabel('human body temperature (F)')\n",
    "_ = plt.ylabel('CDF')\n",
    "_ = plt.legend(('measured temp data', 'theory normal distribution'))"
   ]
  },
  {
   "cell_type": "markdown",
   "metadata": {},
   "source": [
    "To further answer is the body temperature distribution normal? I applied the 68–95–99.7 empirical rule below. The corresponding probabilities are 69.2-94.6-99.2, and there is only 1 outlier which located beyond the three sigma range, which further confirm that the body temperature distribution is normal."
   ]
  },
  {
   "cell_type": "code",
   "execution_count": 177,
   "metadata": {},
   "outputs": [
    {
     "data": {
      "text/plain": [
       "(0.6923076923076923, 0.9461538461538461, 0.9923076923076923, 1.0)"
      ]
     },
     "execution_count": 177,
     "metadata": {},
     "output_type": "execute_result"
    }
   ],
   "source": [
    "# calculate the probabilities of body temperature within 1 standard deviation, 2 standard deviation, and 3 \n",
    "# standard deviation, and the number of outliers\n",
    "sigma_1 = np.sum(np.logical_and(temp < (temp_mean + temp_std), temp > (temp_mean - temp_std))) / n\n",
    "sigma_2 = np.sum(np.logical_and(temp < (temp_mean + 2 * temp_std), temp > (temp_mean - 2 * temp_std))) / n\n",
    "sigma_3 = np.sum(np.logical_and(temp < (temp_mean + 3 * temp_std), temp > (temp_mean - 3 * temp_std))) / n\n",
    "outliers = n - sigma_3 * n\n",
    "sigma_1, sigma_2, sigma_3, outliers"
   ]
  },
  {
   "cell_type": "markdown",
   "metadata": {},
   "source": [
    "**2. Is the sample size large? Are the observations independent?**\n",
    "\n",
    "The sample size 130 is large, which is larger than 30, so the central limit therom is applicable. We know there are millions of humans on the earth, and it's apparent that the sample size is less than 10% of the population, so we can say the individual observation is independent and the statistical test is applicable."
   ]
  },
  {
   "cell_type": "markdown",
   "metadata": {},
   "source": [
    "**3. Is the true population mean really 98.6 degrees F?**\n",
    "\n",
    "First let's do a bootstrap hypothesis test 10000 times, and calculate the $p$ value that the mean temperature of bootstrap replicates larger than or equate to the true population mean temperature 98.6 degrees F. The calculated $p$ value is 0.0, that we can reject the null hypothesis (true_mean = 98.6)."
   ]
  },
  {
   "cell_type": "code",
   "execution_count": 83,
   "metadata": {},
   "outputs": [
    {
     "data": {
      "text/plain": [
       "0.0"
      ]
     },
     "execution_count": 83,
     "metadata": {},
     "output_type": "execute_result"
    }
   ],
   "source": [
    "# assume the null hypothesis the true population mean is 98.6 degrees F\n",
    "true_mean = 98.6\n",
    "# gengerate 10000-times bootstrap tests\n",
    "bs_temp = np.empty(10000)\n",
    "for i in range(10000):\n",
    "    # calculate the mean of each bootstrap test\n",
    "    bs_temp[i] = np.mean(np.random.choice(temp, size=n))\n",
    "# calculate the p value that the means of bootstrap test larger than or equate to the true mean    \n",
    "p_value = np.sum(bs_temp >= true_mean) / 10000\n",
    "p_value"
   ]
  },
  {
   "cell_type": "markdown",
   "metadata": {},
   "source": [
    "For frequantist statistical test, it will be one-sample test, since we are only considering one statistic of human temperature; and since the sample size is larger than *30*, it's appropriate to apply $z$ statistic. \n",
    "\n",
    "In the following cell, we apply $z$ statistic and calculate the $p$ value, and then compare with the $p$ value of $t$ statistic. We can see that both $p$ values are very close to *0*, because the $t$ distribution and $z$ distribution look pretty much the same when the sample size is large (over 30). "
   ]
  },
  {
   "cell_type": "code",
   "execution_count": 182,
   "metadata": {},
   "outputs": [
    {
     "data": {
      "text/plain": [
       "(4.352315174926957e-08, 2.4106320415561276e-07)"
      ]
     },
     "execution_count": 182,
     "metadata": {},
     "output_type": "execute_result"
    }
   ],
   "source": [
    "# calculate z-score and p value\n",
    "z_score = (temp_mean - true_mean) / (temp_std / np.sqrt(n))\n",
    "pval_z = 2 * (1 - norm.cdf(abs(z_score)))\n",
    "# calculate the p value of t test\n",
    "pval_t = ttest_1samp(temp, true_mean)[1]\n",
    "pval_z, pval_t"
   ]
  },
  {
   "cell_type": "markdown",
   "metadata": {},
   "source": [
    "**4. Draw a small sample of size *10* from the data and repeat both frequentist tests.**\n",
    "\n",
    "For small sample size (less than *30*), $t$ statistic is the one to choose. It indicates that the $p$ values calculated from the two tests are different, that $t$ statistic should be chose when the sample size is small (less than *30*)."
   ]
  },
  {
   "cell_type": "code",
   "execution_count": 181,
   "metadata": {},
   "outputs": [
    {
     "data": {
      "text/plain": [
       "(0.026753463249664877, 0.06496789033162993)"
      ]
     },
     "execution_count": 181,
     "metadata": {},
     "output_type": "execute_result"
    }
   ],
   "source": [
    "# draw a samll sample of size 10 from the data\n",
    "temp_resampled = np.random.choice(temp, size=10)\n",
    "# calculate the mean and std of the resampled data\n",
    "temp_mean_rs = np.mean(temp_resampled)\n",
    "temp_std_rs = np.std(temp_resampled)\n",
    "# calculate the z-score and p value of the resampled data\n",
    "z_rs = (temp_mean_rs - true_mean) / (temp_std_rs / np.sqrt(10))\n",
    "pval_rs_z = 2 * (1 - norm.cdf(abs(z_rs)))\n",
    "# calculate the p value of t test of the resample data\n",
    "pval_rs_t = ttest_1samp(temp_resampled, true_mean)[1]\n",
    "pval_rs_z, pval_rs_t"
   ]
  },
  {
   "cell_type": "markdown",
   "metadata": {},
   "source": [
    "**5. At what temperature should we consider someone's temperature to be \"abnormal\"?**\n",
    "\n",
    "Two answer this question, two hypothesis tests are conducted:\n",
    "\n",
    "Generate a one-draw bootstrap test, the *95%* confidence interval is calculated, *(96.5, 99.9)*, and the margin of error is *1.7*. \n",
    "\n",
    "And the *95%* confidence interval calculated from $z$ statistic test is *(96.8, 99.7)*, and the margin of error is *1.4*.\n",
    "\n",
    "So we can consider someone's temperature beyond the *95%* confidence interval to be **\"abnormal\"**."
   ]
  },
  {
   "cell_type": "code",
   "execution_count": 129,
   "metadata": {},
   "outputs": [
    {
     "data": {
      "text/plain": [
       "(array([96.4675, 99.8875]), 1.7099999999999937)"
      ]
     },
     "execution_count": 129,
     "metadata": {},
     "output_type": "execute_result"
    }
   ],
   "source": [
    "# one-draw bootstrap test\n",
    "bs_temp = np.random.choice(temp, size=n)\n",
    "# 95% confidence interval\n",
    "bs_interval = np.percentile(bs_temp, [2.5, 97.5])\n",
    "# margin of error\n",
    "bs_margin = bs_interval[1] - np.sum(bs_interval) / 2\n",
    "bs_interval, bs_margin"
   ]
  },
  {
   "cell_type": "code",
   "execution_count": 134,
   "metadata": {},
   "outputs": [
    {
     "data": {
      "text/plain": [
       "((96.81775582674821, 99.68070571171329), 1.431474942482538)"
      ]
     },
     "execution_count": 134,
     "metadata": {},
     "output_type": "execute_result"
    }
   ],
   "source": [
    "# z statistic test 95% confidence interval\n",
    "z_interval = norm.ppf(0.025, loc=temp_mean, scale=temp_std), norm.ppf(0.975, loc=temp_mean, scale=temp_std)\n",
    "# margin of error\n",
    "z_margin = z_interval[1] - np.sum(z_interval) / 2\n",
    "z_interval, z_margin"
   ]
  },
  {
   "cell_type": "markdown",
   "metadata": {},
   "source": [
    "**6. Is there a significant difference between males and females in normal temperature?**\n",
    "\n",
    "To compare the body temperatures between male and female, first I sort the temperature data of male and female, and plot scatter data on the same figure to compare graphically, it's clear that female has higher body temperature."
   ]
  },
  {
   "cell_type": "code",
   "execution_count": 170,
   "metadata": {},
   "outputs": [
    {
     "data": {
      "text/plain": [
       "(98.39384615384614, 98.10461538461539, 65)"
      ]
     },
     "execution_count": 170,
     "metadata": {},
     "output_type": "execute_result"
    },
    {
     "data": {
      "image/png": "[encoded data removed]",
      "text/plain": [
       "<Figure size 432x288 with 1 Axes>"
      ]
     },
     "metadata": {},
     "output_type": "display_data"
    }
   ],
   "source": [
    "# separate the temperature column to female and male\n",
    "f_temp = np.sort(df[df['gender'] == 'F']['temperature'])\n",
    "m_temp = np.sort(df[df['gender'] == 'M']['temperature'])\n",
    "# plot the female and male body temperature data\n",
    "x = np.array(range(len(f_temp))\n",
    "_ = plt.scatter(x,f_temp,color='red')\n",
    "_ = plt.scatter(x,m_temp,color='blue')\n",
    "_ = plt.ylabel('human body temperature (F)')\n",
    "_ = plt.legend(('female', 'male'))"
   ]
  },
  {
   "cell_type": "markdown",
   "metadata": {},
   "source": [
    "To further confirm the conclusion, draw the bootstrap test 10000 times from the origin temperature data, and assign the first half as female temperature, and second half as male temperature, and then calculte the mean difference as bootstrap replicates. Compare the bootstrap replicates to mean temperature difference between female and male, and $p$ value is *0.99*, showing *99%* of bootstrap replicates are less than the mean temperature difference between female and male, which confirm that there is a significant difference between female and male normal temperature."
   ]
  },
  {
   "cell_type": "code",
   "execution_count": 185,
   "metadata": {},
   "outputs": [
    {
     "data": {
      "text/plain": [
       "0.9863"
      ]
     },
     "execution_count": 185,
     "metadata": {},
     "output_type": "execute_result"
    }
   ],
   "source": [
    "# mean difference of female and male temperature\n",
    "f_temp_mean = np.mean(f_temp)\n",
    "m_temp_mean = np.mean(m_temp)\n",
    "diff_mean = f_temp_mean - m_temp_mean\n",
    "# bootstrap tests\n",
    "bs_diff_mean = np.empty(10000)\n",
    "for i in range(10000):\n",
    "    bs = np.random.choice(temp,size=n)\n",
    "    bs_diff_mean[i] = np.mean(bs[:65]) - np.mean(bs[65:])\n",
    "# p value that bs replicates less than or equate to diff_mean\n",
    "pval = np.sum(bs_diff_mean <= diff_mean) / 10000\n",
    "pval"
   ]
  }
 ],
 "metadata": {
  "kernelspec": {
   "display_name": "Python 3",
   "language": "python",
   "name": "python3"
  },
  "language_info": {
   "codemirror_mode": {
    "name": "ipython",
    "version": 3
   },
   "file_extension": ".py",
   "mimetype": "text/x-python",
   "name": "python",
   "nbconvert_exporter": "python",
   "pygments_lexer": "ipython3",
   "version": "3.7.2"
  }
 },
 "nbformat": 4,
 "nbformat_minor": 1
}
